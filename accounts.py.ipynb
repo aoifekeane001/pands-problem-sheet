{
 "cells": [
  {
   "cell_type": "code",
   "execution_count": 1,
   "id": "8005f79c",
   "metadata": {},
   "outputs": [],
   "source": [
    "# Problem Sheet 2023\n",
    "## Week 3: Accounts\n",
    "## Author: Aoife Keane "
   ]
  },
  {
   "cell_type": "code",
   "execution_count": 2,
   "id": "c2081521",
   "metadata": {},
   "outputs": [],
   "source": [
    "### Problem 3a: Write a python program called accounts.py that reads in a 10 character account number and outputs the account number with only the last 4 digits showing (and the first 6 digits replaced with Xs)\n"
   ]
  },
  {
   "cell_type": "code",
   "execution_count": 3,
   "id": "c5f9f328",
   "metadata": {},
   "outputs": [],
   "source": [
    "### Solution 3a:\n",
    "# Read in the 10-character account number\n",
    "account_number = input(\"Enter your 10-digit account number: \")\n",
    "\n",
    "# Replace the first 6 digits with Xs and keep only the last 4 digits\n",
    "masked_account_number = \"XXXXXX\" + account_number[-4:]\n",
    "\n",
    "# Print the masked account number to the console\n",
    "print(\"Your masked account number is:\", masked_account_number)\n"
   ]
  },
  {
   "cell_type": "code",
   "execution_count": 4,
   "id": "bef9f30f",
   "metadata": {},
   "outputs": [],
   "source": [
    "### Problem 3b: Modify the program to deal with account numbers of any length "
   ]
  },
  {
   "cell_type": "code",
   "execution_count": 5,
   "id": "962a017f",
   "metadata": {},
   "outputs": [
    {
     "name": "stdout",
     "output_type": "stream",
     "text": [
      "Enter your account number: 1234567890\n",
      "Your masked account number is: XXXXXX7890\n"
     ]
    }
   ],
   "source": [
    "### Solutions 3b:\n",
    "# Read in the account number\n",
    "account_number = input(\"Enter your account number: \")\n",
    "\n",
    "# Determine the length of the account number\n",
    "num_digits = len(account_number)\n",
    "\n",
    "# Mask all but the last 4 digits\n",
    "masked_account_number = \"X\" * (num_digits - 4) + account_number[-4:]\n",
    "\n",
    "# Print the masked account number to the console\n",
    "print(\"Your masked account number is:\", masked_account_number)"
   ]
  },
  {
   "cell_type": "code",
   "execution_count": 6,
   "id": "7ae7017e",
   "metadata": {},
   "outputs": [],
   "source": [
    "### Explanation:"
   ]
  },
  {
   "cell_type": "code",
   "execution_count": null,
   "id": "086c501b",
   "metadata": {},
   "outputs": [],
   "source": [
    "### References:\n",
    "https://www.programiz.com/python-programming/examples/number-of-digits\n",
    "https://realpython.com/python-numbers/"
   ]
  }
 ],
 "metadata": {
  "kernelspec": {
   "display_name": "Python 3 (ipykernel)",
   "language": "python",
   "name": "python3"
  },
  "language_info": {
   "codemirror_mode": {
    "name": "ipython",
    "version": 3
   },
   "file_extension": ".py",
   "mimetype": "text/x-python",
   "name": "python",
   "nbconvert_exporter": "python",
   "pygments_lexer": "ipython3",
   "version": "3.9.13"
  }
 },
 "nbformat": 4,
 "nbformat_minor": 5
}
