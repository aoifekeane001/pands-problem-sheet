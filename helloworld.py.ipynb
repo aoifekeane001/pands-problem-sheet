{
 "cells": [
  {
   "cell_type": "code",
   "execution_count": null,
   "id": "77c40b0e",
   "metadata": {},
   "outputs": [],
   "source": [
    "# Problem Sheet 2023\n",
    "## Week 1: Hello World\n",
    "## Author: Aoife Keane\n",
    "### Problem 1: Pull the sample code from repository to machine, commit & push a file to the problem sheet called Hello World!when its run\n",
    "### Solution: \n",
    "print (\"Hello World\")"
   ]
  },
  {
   "cell_type": "code",
   "execution_count": null,
   "id": "8a26b594",
   "metadata": {},
   "outputs": [],
   "source": [
    "### References: Lecture notes "
   ]
  }
 ],
 "metadata": {
  "kernelspec": {
   "display_name": "Python 3 (ipykernel)",
   "language": "python",
   "name": "python3"
  },
  "language_info": {
   "codemirror_mode": {
    "name": "ipython",
    "version": 3
   },
   "file_extension": ".py",
   "mimetype": "text/x-python",
   "name": "python",
   "nbconvert_exporter": "python",
   "pygments_lexer": "ipython3",
   "version": "3.9.13"
  }
 },
 "nbformat": 4,
 "nbformat_minor": 5
}
