{
 "cells": [
  {
   "cell_type": "code",
   "execution_count": 2,
   "id": "ebda410f",
   "metadata": {},
   "outputs": [],
   "source": [
    "# Problem Sheet 2023\n",
    "## Week 2: Banks\n",
    "## Author: Aoife Keane"
   ]
  },
  {
   "cell_type": "code",
   "execution_count": 3,
   "id": "be79e997",
   "metadata": {},
   "outputs": [],
   "source": [
    "### Problem 2: Write a program called bank.py. The program should prompt the user and read in two money amounts in cents, add the two amounts and print out the answer in a human readable format with a euro sign and decimal point between the euro and cent of the amount"
   ]
  },
  {
   "cell_type": "code",
   "execution_count": null,
   "id": "47b75a65",
   "metadata": {},
   "outputs": [],
   "source": [
    "### Solution 2: \n",
    "\n",
    "# Prompt user to enter the first amount in cents\n",
    "amount1 = int(input(\"Enter the first amount in cents: \"))\n",
    "\n",
    "# Prompt user to enter the second amount in cents\n",
    "amount2 = int(input(\"Enter the second amount in cents: \"))\n",
    "\n",
    "# Add the two amounts together\n",
    "total_amount = amount1 + amount2\n",
    "\n",
    "# Convert the total amount to a human-readable format with a Euro sign and decimal point\n",
    "euros = total_amount // 100\n",
    "cents = total_amount % 100\n",
    "formatted_amount = f\"€{euros}.{cents:02d}\"\n",
    "\n",
    "# Print the formatted amount \n",
    "print(\"The total amount is:\", formatted_amount) "
   ]
  },
  {
   "cell_type": "code",
   "execution_count": null,
   "id": "3a06c415",
   "metadata": {},
   "outputs": [],
   "source": [
    "### Explanation: # 1: Taking Integer Input in Python- do this by converting the string input to int using the int() function int() changes a string to an integer.. input() function is used to display a prompt message to the user and read in their input as a string. The int() function is used to convert the input string to an integer value. \n",
    "\n"
   ]
  },
  {
   "cell_type": "code",
   "execution_count": 5,
   "id": "05d14b77",
   "metadata": {},
   "outputs": [],
   "source": [
    "### References:\n",
    "https://www.learnpython.org/\n",
    "https://realpython.com/python-input-integer/\n",
    "https://stackoverflow.com/questions/46189874/python-find-the-dollar-and-cent"
   ]
  }
 ],
 "metadata": {
  "kernelspec": {
   "display_name": "Python 3 (ipykernel)",
   "language": "python",
   "name": "python3"
  },
  "language_info": {
   "codemirror_mode": {
    "name": "ipython",
    "version": 3
   },
   "file_extension": ".py",
   "mimetype": "text/x-python",
   "name": "python",
   "nbconvert_exporter": "python",
   "pygments_lexer": "ipython3",
   "version": "3.9.13"
  }
 },
 "nbformat": 4,
 "nbformat_minor": 5
}
