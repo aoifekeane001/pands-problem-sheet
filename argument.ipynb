{
 "cells": [
  {
   "cell_type": "code",
   "execution_count": 1,
   "id": "e98c8cba",
   "metadata": {},
   "outputs": [],
   "source": [
    "# Problem Sheet 2023\n",
    "## Week 7: argument\n",
    "## Author: Aoife Keane"
   ]
  },
  {
   "cell_type": "code",
   "execution_count": 2,
   "id": "d4d36fcb",
   "metadata": {},
   "outputs": [],
   "source": [
    "### Problem 7: Write a program that reads in a text file and outputs the number of e's it contains\n"
   ]
  },
  {
   "cell_type": "code",
   "execution_count": null,
   "id": "a25bbc37",
   "metadata": {},
   "outputs": [],
   "source": [
    "### Solution:\n",
    "import sys\n",
    "\n",
    "# Check if a filename was provided as a command-line argument\n",
    "if len(sys.argv) < 2:\n",
    "    print(\"Usage: python program_name.py filename\")\n",
    "    sys.exit(1)\n",
    "\n",
    "# Get the filename from the command-line argument\n",
    "filename = sys.argv[1]\n",
    "\n",
    "# Open the file for reading\n",
    "with open(filename, \"r\") as file:\n",
    "    # Read the contents of the file into a string\n",
    "    contents = file.read()\n",
    "\n",
    "# Count the number of e's in the string\n",
    "num_e = contents.count(\"e\")\n",
    "\n",
    "# Print the result to the console\n",
    "print(\"The file\", filename, \"contains\", num_e, \"e's.\")\n",
    "\n",
    "\n",
    "$ python program_name.py input.txt\n",
    "The file input.txt contains 42 e's.\n"
   ]
  },
  {
   "cell_type": "code",
   "execution_count": null,
   "id": "83da3663",
   "metadata": {},
   "outputs": [],
   "source": [
    "### Explanation:\n",
    "\n"
   ]
  },
  {
   "cell_type": "code",
   "execution_count": null,
   "id": "635a655e",
   "metadata": {},
   "outputs": [],
   "source": [
    "## References: \n",
    "\n"
   ]
  }
 ],
 "metadata": {
  "kernelspec": {
   "display_name": "Python 3 (ipykernel)",
   "language": "python",
   "name": "python3"
  },
  "language_info": {
   "codemirror_mode": {
    "name": "ipython",
    "version": 3
   },
   "file_extension": ".py",
   "mimetype": "text/x-python",
   "name": "python",
   "nbconvert_exporter": "python",
   "pygments_lexer": "ipython3",
   "version": "3.9.13"
  }
 },
 "nbformat": 4,
 "nbformat_minor": 5
}
