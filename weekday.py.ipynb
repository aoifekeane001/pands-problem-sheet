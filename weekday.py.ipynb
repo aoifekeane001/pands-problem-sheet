{
 "cells": [
  {
   "cell_type": "code",
   "execution_count": 1,
   "id": "da646161",
   "metadata": {},
   "outputs": [],
   "source": [
    "# Problem Sheet 2023\n",
    "## Week 5: Weekday\n",
    "## Author: Aoife Keane"
   ]
  },
  {
   "cell_type": "code",
   "execution_count": 2,
   "id": "f7fb180e",
   "metadata": {},
   "outputs": [],
   "source": [
    "### Problem 5: Write a program that outputs whether or not today is a weekday"
   ]
  },
  {
   "cell_type": "code",
   "execution_count": 10,
   "id": "7175a211",
   "metadata": {},
   "outputs": [
    {
     "name": "stdout",
     "output_type": "stream",
     "text": [
      "Today is a weekday!\n"
     ]
    }
   ],
   "source": [
    "###Solution 5: \n",
    "\n",
    "import datetime\n",
    "\n",
    "#get the current date\n",
    "today = datetime.datetime.today()\n",
    "\n",
    "#check if today is a weekday\n",
    "if today.weekday()<5:\n",
    "    print(\"Today is a weekday!\")"
   ]
  },
  {
   "cell_type": "code",
   "execution_count": null,
   "id": "6af31d36",
   "metadata": {},
   "outputs": [],
   "source": [
    "### Explanation 5:\n",
    "Using datetime\n"
   ]
  },
  {
   "cell_type": "code",
   "execution_count": null,
   "id": "6926b1cb",
   "metadata": {},
   "outputs": [],
   "source": [
    "### References:\n",
    "https://www.programiz.com/python-programming/datetime/current-datetime"
   ]
  }
 ],
 "metadata": {
  "kernelspec": {
   "display_name": "Python 3 (ipykernel)",
   "language": "python",
   "name": "python3"
  },
  "language_info": {
   "codemirror_mode": {
    "name": "ipython",
    "version": 3
   },
   "file_extension": ".py",
   "mimetype": "text/x-python",
   "name": "python",
   "nbconvert_exporter": "python",
   "pygments_lexer": "ipython3",
   "version": "3.9.13"
  }
 },
 "nbformat": 4,
 "nbformat_minor": 5
}
