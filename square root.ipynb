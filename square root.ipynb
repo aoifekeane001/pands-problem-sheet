{
 "cells": [
  {
   "cell_type": "code",
   "execution_count": 1,
   "id": "b238b468",
   "metadata": {},
   "outputs": [],
   "source": [
    "# Problem Sheet 2023\n",
    "## Week 6: square root\n",
    "## Author: Aoife Keane"
   ]
  },
  {
   "cell_type": "code",
   "execution_count": null,
   "id": "b85a4ea1",
   "metadata": {},
   "outputs": [],
   "source": [
    "### Problem 6: Write a program that takes a positive floating-point number as input and outputs an approximation of its square root.You should create a function called <tt>sqrt</tt> that does this."
   ]
  },
  {
   "cell_type": "code",
   "execution_count": 4,
   "id": "113d8b28",
   "metadata": {},
   "outputs": [
    {
     "name": "stdout",
     "output_type": "stream",
     "text": [
      "Enter a positive floating-point number: 14.5\n",
      "The square root of 14.5 is approximately 3.8078865529319543\n"
     ]
    }
   ],
   "source": [
    "### Solution 6: \n",
    "def sqrt(num):\n",
    "    \"\"\"\n",
    "    Compute an approximation of the square root of a positive floating-point number.\n",
    "    \"\"\"\n",
    "    if num < 0:\n",
    "        return None\n",
    "    elif num == 0:\n",
    "        return 0\n",
    "    else:\n",
    "        # Use the Babylonian method to compute the square root\n",
    "        guess = num / 2\n",
    "        while True:\n",
    "            new_guess = (guess + num / guess) / 2\n",
    "            if abs(new_guess - guess) < 0.0001:\n",
    "                return new_guess\n",
    "            guess = new_guess\n",
    "\n",
    "# Ask the user to input a positive floating-point number\n",
    "num = float(input(\"Enter a positive floating-point number: \"))\n",
    "\n",
    "# Compute the square root using the sqrt function\n",
    "result = sqrt(num)\n",
    "\n",
    "# Print the result to the console\n",
    "if result is None:\n",
    "    print(\"Error: cannot compute square root of a negative number.\")\n",
    "else:\n",
    "    print(\"The square root of\", num, \"is approximately\", result)\n"
   ]
  },
  {
   "cell_type": "code",
   "execution_count": null,
   "id": "60975cb8",
   "metadata": {},
   "outputs": [],
   "source": [
    "### Explanation: \n",
    "\n"
   ]
  },
  {
   "cell_type": "code",
   "execution_count": null,
   "id": "4b0f0447",
   "metadata": {},
   "outputs": [],
   "source": [
    "## References: "
   ]
  }
 ],
 "metadata": {
  "kernelspec": {
   "display_name": "Python 3 (ipykernel)",
   "language": "python",
   "name": "python3"
  },
  "language_info": {
   "codemirror_mode": {
    "name": "ipython",
    "version": 3
   },
   "file_extension": ".py",
   "mimetype": "text/x-python",
   "name": "python",
   "nbconvert_exporter": "python",
   "pygments_lexer": "ipython3",
   "version": "3.9.13"
  }
 },
 "nbformat": 4,
 "nbformat_minor": 5
}
