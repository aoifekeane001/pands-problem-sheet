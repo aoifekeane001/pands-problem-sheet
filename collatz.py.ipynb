{
 "cells": [
  {
   "cell_type": "code",
   "execution_count": 1,
   "id": "a371ba32",
   "metadata": {},
   "outputs": [],
   "source": [
    "# Problem Sheet 2023\n",
    "## Week 4: Collatz\n",
    "## Author: Aoife Keane"
   ]
  },
  {
   "cell_type": "code",
   "execution_count": 2,
   "id": "b37803e6",
   "metadata": {},
   "outputs": [],
   "source": [
    "### Problem 4: Write a program, called collatz.py, that asks the user to input any positive integer and outputs the successive values. At each step calculate the next value by taking the current value and, if it is even, divide it by two, but if it is odd, multiply it by three and add one. Have the program end if the current value is one.\n"
   ]
  },
  {
   "cell_type": "code",
   "execution_count": 3,
   "id": "8ad9c109",
   "metadata": {},
   "outputs": [
    {
     "name": "stdout",
     "output_type": "stream",
     "text": [
      "Enter a positive integer: 10\n",
      "Successive values: 10 5 16 8 4 2 1\n"
     ]
    }
   ],
   "source": [
    "### Solution: \n",
    "# Ask the user to input a positive integer\n",
    "n = int(input(\"Enter a positive integer: \"))\n",
    "\n",
    "# Initialize a list to store the successive values\n",
    "successive_values = [n]\n",
    "\n",
    "# Compute the successive values using the Collatz conjecture\n",
    "while n != 1:\n",
    "    if n % 2 == 0:\n",
    "        n = n // 2\n",
    "    else:\n",
    "        n = 3 * n + 1\n",
    "    successive_values.append(n)\n",
    "\n",
    "# Print the successive values to the console\n",
    "print(\"Successive values:\", \" \".join(str(x) for x in successive_values))"
   ]
  },
  {
   "cell_type": "code",
   "execution_count": null,
   "id": "fb31dd4c",
   "metadata": {},
   "outputs": [],
   "source": [
    "### Explanation:\n",
    "\n"
   ]
  },
  {
   "cell_type": "code",
   "execution_count": null,
   "id": "b2e7db02",
   "metadata": {},
   "outputs": [],
   "source": [
    "### References:"
   ]
  }
 ],
 "metadata": {
  "kernelspec": {
   "display_name": "Python 3 (ipykernel)",
   "language": "python",
   "name": "python3"
  },
  "language_info": {
   "codemirror_mode": {
    "name": "ipython",
    "version": 3
   },
   "file_extension": ".py",
   "mimetype": "text/x-python",
   "name": "python",
   "nbconvert_exporter": "python",
   "pygments_lexer": "ipython3",
   "version": "3.9.13"
  }
 },
 "nbformat": 4,
 "nbformat_minor": 5
}
